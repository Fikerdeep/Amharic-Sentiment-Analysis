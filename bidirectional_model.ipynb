{
 "cells": [
  {
   "cell_type": "code",
   "execution_count": 1,
   "id": "e3b47939",
   "metadata": {},
   "outputs": [
    {
     "data": {
      "text/plain": [
       "0    ታዛዥ ነን !!የምንችለውን ሁሉ ለማደረግ። እግዚአብሔር ብቻ ከናንተ ጋር ይሁን\n",
       "1    ያልከው ሁሉ ያልከው ልክ ነይ በአላህ እገዛ ሁሉም ለሀገራችን ጥሩን እመኛለሁ።\n",
       "2        የዘመኑ ጀግና እና ማዕበሉን የምታሻግር የድርሻውን የሚወጣ አንበሳ ነህ።\n",
       "3                  ድል ከእውነተኛው ተባዳዮች ጋር ናት ጀግናዬ ነህ ዐቢቹ።\n",
       "4          ፈጣሪ ይርዳን በተለይ እንደ አማራ ህዝብ በጣም አሳሳቢ እየሆነ ነው \n",
       "Name: review, dtype: object"
      ]
     },
     "execution_count": 1,
     "metadata": {},
     "output_type": "execute_result"
    }
   ],
   "source": [
    "import pandas as pd\n",
    "import numpy as np\n",
    "import re\n",
    "import nltk\n",
    "from nltk.corpus import stopwords\n",
    "from nltk import sent_tokenize, word_tokenize\n",
    "from pandas import DataFrame\n",
    "from numpy import array\n",
    "from keras.preprocessing.text import one_hot\n",
    "from keras.preprocessing.sequence import pad_sequences\n",
    "from keras.models import Sequential\n",
    "from keras.layers.core import Activation, Dropout, Dense\n",
    "from keras.layers import Flatten\n",
    "#from keras.layers import GlobalMaxPooling1D\n",
    "from keras.layers.embeddings import Embedding\n",
    "from sklearn.model_selection import train_test_split\n",
    "from keras.preprocessing.text import Tokenizer\n",
    "from keras.layers import LSTM, Conv1D, Dense, Flatten, MaxPooling1D, Dropout\n",
    "\n",
    "\n",
    "df = pd.read_csv('D:\\post.csv', encoding = 'utf16')\n",
    "d=df['review']\n",
    "d.head()"
   ]
  },
  {
   "cell_type": "code",
   "execution_count": 2,
   "id": "2c37a3b8",
   "metadata": {},
   "outputs": [],
   "source": [
    "class normalize(object):\n",
    "    expansion_file_dir='' # assume you have file with list of short forms with their expansion as gazeter\n",
    "    short_form_dict={}\n",
    "    # Constructor\n",
    "    def __init__(self):\n",
    "       self.short_form_dict=self.get_short_forms()\n",
    "        \n",
    "\n",
    "    def get_short_forms(self):\n",
    "         text=open(self.expansion_file_dir,encoding='utf8')\n",
    "         exp={}\n",
    "         for line in iter(text):\n",
    "            line=line.strip()\n",
    "            if not line:  # line is blank\n",
    "                continue\n",
    "            else:\n",
    "                expanded=line.split(\"-\")\n",
    "                exp[expanded[0].strip()]=expanded[1].replace(\" \",'_').strip()\n",
    "         return exp\n",
    "                     \n",
    "\n",
    "    # method that expand short form file\n",
    "    def expand_short_form(input_short_word):\n",
    "        if input_short_word in self.short_form_dict:              \n",
    "            return self.short_form_dict[input_short_word]\n",
    "        else:\n",
    "            return input_short_word\n",
    "\n",
    "def preprocess(input_token):\n",
    " space_pattern = '\\s+'\n",
    " url_regex = ('http[s]?://(?:[a-zA-Z]|[0-9]|[$-_@.&+]|'\n",
    " '[!*\\(\\),]|(?:%[0-9a-fA-F][0-9a-fA-F]))+')\n",
    " englishword_num ='[a-zA-Z]|[0-9]+'\n",
    " AmhPunc='[፤።፡፣:,.?/()•“”*፨]+'\n",
    " special_char = \"[@#$%^&=?×!,;:_.(){}`'/+*<>\\\"¤— „\\ ®¯™¡¡\\x10»€«·‘0e1b§”¬¦…\"\"f÷\\~¨©±¥£¶–°•˜’“|]\"\n",
    " geez_number=' [፩ ፪ ፫ ፬ ፭ ፮ ፯ ፰ ፱ ፲ ፳ ፴ ፵ ፶ ፷ ፸ ፹ ፺ ፻] ' # for removing geez number\n",
    " RE_EMOJI = re.compile('[\\U00010000-\\U0010ffff]', flags=re.UNICODE)\n",
    " Clean_text = re.sub(url_regex,'', input_token)\n",
    " Clean_text = re.sub(AmhPunc,' ',Clean_text)\n",
    " Clean_text=re.sub(special_char,' ',Clean_text)\n",
    " Clean_text= re.sub(englishword_num,'',Clean_text)\n",
    " Clean_text= re.sub(r'(.)\\1+', r'\\1\\1',Clean_text) #removing elongation in text\n",
    " Clean_text = RE_EMOJI.sub(r'', Clean_text)\n",
    " Clean_text =re.sub(geez_number,'',Clean_text)\n",
    " Clean_text=re.sub('-','',Clean_text)\n",
    " Clean_text=re.sub(r'<[^>]*>','', Clean_text)\n",
    " Clean_text=re.sub('-',' ',Clean_text)\n",
    " Clean_text = Clean_text.replace(\"\\\\\", \"\");\n",
    " Clean_text = Clean_text.replace(\"[\", \"\");\n",
    " Clean_text = Clean_text.replace(\"]\", \"\");\n",
    " Clean_text = re.sub(space_pattern,' ',Clean_text)\n",
    " return Clean_text\n",
    "def normalize_char_level_missmatch(input_token):\n",
    "        rep1=re.sub('[ሃኅኃሐሓኻ]','ሀ',input_token)\n",
    "        rep2=re.sub('[ሑኁዅ]','ሁ',rep1)\n",
    "        rep3=re.sub('[ኂሒኺ]','ሂ',rep2)\n",
    "        rep4=re.sub('[ኌሔዄ]','ሄ',rep3)\n",
    "        rep5=re.sub('[ሕኅ]','ህ',rep4)\n",
    "        rep6=re.sub('[ኆሖኾ]','ሆ',rep5)\n",
    "        rep7=re.sub('[ሠ]','ሰ',rep6)\n",
    "        rep8=re.sub('[ሡ]','ሱ',rep7)\n",
    "        rep9=re.sub('[ሢ]','ሲ',rep8)\n",
    "        rep10=re.sub('[ሣ]','ሳ',rep9)\n",
    "        rep11=re.sub('[ሤ]','ሴ',rep10)\n",
    "        rep12=re.sub('[ሥ]','ስ',rep11)\n",
    "        rep13=re.sub('[ሦ]','ሶ',rep12)\n",
    "        rep14=re.sub('[ዓኣዐ]','አ',rep13)\n",
    "        rep15=re.sub('[ዑ]','ኡ',rep14)\n",
    "        rep16=re.sub('[ዒ]','ኢ',rep15)\n",
    "        rep17=re.sub('[ዔ]','ኤ',rep16)\n",
    "        rep18=re.sub('[ዕ]','እ',rep17)\n",
    "        rep19=re.sub('[ዖ]','ኦ',rep18)\n",
    "        rep20=re.sub('[ጸ]','ፀ',rep19)\n",
    "        rep21=re.sub('[ጹ]','ፁ',rep20)\n",
    "        rep22=re.sub('[ጺ]','ፂ',rep21)\n",
    "        rep23=re.sub('[ጻ]','ፃ',rep22)\n",
    "        rep24=re.sub('[ጼ]','ፄ',rep23)\n",
    "        rep25=re.sub('[ጽ]','ፅ',rep24)\n",
    "        rep26=re.sub('[ጾ]','ፆ',rep25)\n",
    "        #Normalizing words with Labialized Amharic characters such as በልቱዋል or  በልቱአል to  በልቷል  \n",
    "        rep27=re.sub('(ሉ[ዋአ])','ሏ',rep26)\n",
    "        rep28=re.sub('(ሙ[ዋአ])','ሟ',rep27)\n",
    "        rep29=re.sub('(ቱ[ዋአ])','ቷ',rep28)\n",
    "        rep30=re.sub('(ሩ[ዋአ])','ሯ',rep29)\n",
    "        rep31=re.sub('(ሱ[ዋአ])','ሷ',rep30)\n",
    "        rep32=re.sub('(ሹ[ዋአ])','ሿ',rep31)\n",
    "        rep33=re.sub('(ቁ[ዋአ])','ቋ',rep32)\n",
    "        rep34=re.sub('(ቡ[ዋአ])','ቧ',rep33)\n",
    "        rep35=re.sub('(ቹ[ዋአ])','ቿ',rep34)\n",
    "        rep36=re.sub('(ሁ[ዋአ])','ኋ',rep35)\n",
    "        rep37=re.sub('(ኑ[ዋአ])','ኗ',rep36)\n",
    "        rep38=re.sub('(ኙ[ዋአ])','ኟ',rep37)\n",
    "        rep39=re.sub('(ኩ[ዋአ])','ኳ',rep38)\n",
    "        rep40=re.sub('(ዙ[ዋአ])','ዟ',rep39)\n",
    "        rep41=re.sub('(ጉ[ዋአ])','ጓ',rep40)\n",
    "        rep42=re.sub('(ደ[ዋአ])','ዷ',rep41)\n",
    "        rep43=re.sub('(ጡ[ዋአ])','ጧ',rep42)\n",
    "        rep44=re.sub('(ጩ[ዋአ])','ጯ',rep43)\n",
    "        rep45=re.sub('(ጹ[ዋአ])','ጿ',rep44)\n",
    "        rep46=re.sub('(ፉ[ዋአ])','ፏ',rep45)\n",
    "        rep47=re.sub('[ቊ]','ቁ',rep46) #ቁ can be written as ቊ\n",
    "        rep48=re.sub('[ኵ]','ኩ',rep47) #ኩ can be also written as ኵ  \n",
    "        return rep48\n",
    "\n",
    "df['nreview'] = d.apply(preprocess)\n",
    "#df['nreview'] =df['nreview'].apply(normalize_char_level_missmatch)\n",
    "\n",
    "X = []\n",
    "sentences = list(df['nreview'] )\n",
    "for sen in sentences:\n",
    "    #print(sen)\n",
    "    X.append(normalize_char_level_missmatch(sen))\n",
    "y = df['sentiment']\n",
    "\n",
    "y = np.array(list(map(lambda x: 1 if x==\"positive\" else 0, y)))"
   ]
  },
  {
   "cell_type": "code",
   "execution_count": 3,
   "id": "e002afc3",
   "metadata": {},
   "outputs": [
    {
     "name": "stdout",
     "output_type": "stream",
     "text": [
      "እባክዎ ይብቃ ወደ ልቦናዎ ይመለሱ ያለቁት ህፃናት ደም ይፋረዳል እጅዎን ሰጥተው\n"
     ]
    }
   ],
   "source": [
    "X_train, X_test, y_train, y_test = train_test_split(X, y, test_size=0.10, random_state=1)\n",
    "print(X_train[1])\n",
    "tokenizer = Tokenizer(num_words=1500)\n",
    "\n",
    "tokenizer.fit_on_texts(X_train)\n",
    "X_train = tokenizer.texts_to_sequences(X_train)\n",
    "\n",
    "X_test = tokenizer.texts_to_sequences(X_test)\n",
    "\n",
    "# Adding 1 because of reserved 0 index\n",
    "vocab_size = len(tokenizer.word_index) + 1\n",
    "\n",
    "maxlen = 20\n",
    "\n"
   ]
  },
  {
   "cell_type": "code",
   "execution_count": 5,
   "id": "71828d51",
   "metadata": {},
   "outputs": [
    {
     "name": "stdout",
     "output_type": "stream",
     "text": [
      "[[   0    0    0 ...   39   58   15]\n",
      " [   0    0    0 ...   29  159   52]\n",
      " [   0    0    0 ...    1   25  160]\n",
      " ...\n",
      " [   0    0    0 ...   27 1170   88]\n",
      " [   0    0    0 ...  272   45  191]\n",
      " [   0    0    0 ...   64  151   94]]\n"
     ]
    }
   ],
   "source": [
    "X_train = pad_sequences(X_train, padding='pre', maxlen=maxlen)\n",
    "X_test = pad_sequences(X_test, padding='pre', maxlen=maxlen)\n",
    "print(X_train)"
   ]
  },
  {
   "cell_type": "code",
   "execution_count": 4,
   "id": "c4116a74",
   "metadata": {},
   "outputs": [],
   "source": [
    "X_train = pad_sequences(X_train, padding='pre', maxlen=maxlen)\n",
    "X_test = pad_sequences(X_test, padding='pre', maxlen=maxlen)\n",
    "from numpy import array\n",
    "from numpy import asarray\n",
    "from numpy import zeros\n",
    "\n",
    "\n",
    "embeddings_dictionary = dict()\n",
    "glove_file = open('D:/word2vec.txt', encoding=\"utf8\")\n",
    "\n",
    "for line in glove_file:\n",
    "    records = line.split()\n",
    "    word = records[0]\n",
    "    vector_dimensions = asarray(records[1:], dtype='float32')\n",
    "    embeddings_dictionary [word] = vector_dimensions\n",
    "glove_file.close()\n",
    "# print(embeddings_dictionary)\n",
    "embedding_matrix = zeros((vocab_size, 100))\n",
    "for word, index in tokenizer.word_index.items():\n",
    "#     print(word, index)\n",
    "    embedding_vector = embeddings_dictionary.get(word)\n",
    "#     print(embedding_vector)\n",
    "    if embedding_vector is not None:\n",
    "        embedding_matrix[index] = embedding_vector\n",
    "#print(embedding_matrix)  \n"
   ]
  },
  {
   "cell_type": "code",
   "execution_count": 8,
   "id": "5cd17e91",
   "metadata": {},
   "outputs": [
    {
     "name": "stdout",
     "output_type": "stream",
     "text": [
      "Model: \"sequential_1\"\n",
      "_________________________________________________________________\n",
      "Layer (type)                 Output Shape              Param #   \n",
      "=================================================================\n",
      "embedding_1 (Embedding)      (None, 20, 32)            457056    \n",
      "_________________________________________________________________\n",
      "bidirectional_2 (Bidirection (None, 20, 128)           49664     \n",
      "_________________________________________________________________\n",
      "dropout_2 (Dropout)          (None, 20, 128)           0         \n",
      "_________________________________________________________________\n",
      "bidirectional_3 (Bidirection (None, 64)                41216     \n",
      "_________________________________________________________________\n",
      "dropout_3 (Dropout)          (None, 64)                0         \n",
      "_________________________________________________________________\n",
      "dense_2 (Dense)              (None, 64)                4160      \n",
      "_________________________________________________________________\n",
      "dropout_4 (Dropout)          (None, 64)                0         \n",
      "_________________________________________________________________\n",
      "dense_3 (Dense)              (None, 1)                 65        \n",
      "=================================================================\n",
      "Total params: 552,161\n",
      "Trainable params: 552,161\n",
      "Non-trainable params: 0\n",
      "_________________________________________________________________\n",
      "None\n",
      "Epoch 1/5\n",
      "127/127 [==============================] - 17s 55ms/step - loss: 0.6060 - accuracy: 0.6273 - precision_1: 0.6094 - recall_1: 0.8274 - val_loss: 0.2267 - val_accuracy: 0.9044 - val_precision_1: 0.8987 - val_recall_1: 0.9107\n",
      "Epoch 2/5\n",
      "127/127 [==============================] - 4s 31ms/step - loss: 0.2112 - accuracy: 0.9281 - precision_1: 0.9328 - recall_1: 0.9217 - val_loss: 0.2237 - val_accuracy: 0.9089 - val_precision_1: 0.9552 - val_recall_1: 0.8571\n",
      "Epoch 3/5\n",
      "127/127 [==============================] - 4s 31ms/step - loss: 0.1518 - accuracy: 0.9481 - precision_1: 0.9519 - recall_1: 0.9440 - val_loss: 0.2313 - val_accuracy: 0.9111 - val_precision_1: 0.9423 - val_recall_1: 0.8750\n",
      "Epoch 4/5\n",
      "127/127 [==============================] - 4s 31ms/step - loss: 0.1225 - accuracy: 0.9563 - precision_1: 0.9647 - recall_1: 0.9474 - val_loss: 0.2737 - val_accuracy: 0.9022 - val_precision_1: 0.9286 - val_recall_1: 0.8705\n",
      "Epoch 5/5\n",
      "127/127 [==============================] - 4s 32ms/step - loss: 0.0870 - accuracy: 0.9708 - precision_1: 0.9712 - recall_1: 0.9705 - val_loss: 0.2632 - val_accuracy: 0.8956 - val_precision_1: 0.9078 - val_recall_1: 0.8795\n"
     ]
    }
   ],
   "source": [
    "from keras.layers.recurrent import LSTM\n",
    "from keras.layers import Input\n",
    "from keras.layers.merge import Concatenate\n",
    "from keras.layers.embeddings import Embedding\n",
    "from keras.models import Model\n",
    "from keras.layers import Embedding, Conv1D, MaxPooling1D, Bidirectional, LSTM, Dense, Dropout\n",
    "from keras.metrics import Precision, Recall\n",
    "from tensorflow.keras.optimizers import SGD\n",
    "from tensorflow.keras.optimizers import RMSprop\n",
    "#from keras.optimizers import RMSprop\n",
    "#from keras import datasets\n",
    "\n",
    "from keras.callbacks import LearningRateScheduler\n",
    "from keras.callbacks import History\n",
    "\n",
    "from keras import losses\n",
    "embedding_size = 32\n",
    "# Build model\n",
    "model = Sequential()\n",
    "model.add(Embedding(vocab_size, embedding_size, input_length=maxlen))\n",
    "model.add(Bidirectional(LSTM(64, return_sequences=True, input_shape=(None, 1))))\n",
    "model.add(Dropout(0.3))\n",
    "model.add(Bidirectional(LSTM(32)))\n",
    "model.add(Dropout(0.2))\n",
    "model.add(Dense(64, activation='relu'))\n",
    "model.add(Dropout(0.1))\n",
    "model.add(Dense(1, activation='sigmoid'))\n",
    "#adam = Adam(learning_rate=0.01)\n",
    "model.compile(loss = 'binary_crossentropy', optimizer='adam',metrics = ['accuracy', Precision(), Recall()])\n",
    "print(model.summary())\n",
    "history = model.fit(X_train, y_train, batch_size=32, epochs=5, verbose=1, validation_split=0.1)\n",
    "#score = model.evaluate(X_test, y_test, verbose=1)\n",
    "train_acc = model.evaluate(X_train, y_train, verbose=0)\n",
    "test_acc = model.evaluate(X_test, y_test, verbose=0)\n",
    "#print('Train: %.3f, Test: %.3f' % (test_acc[1]))"
   ]
  },
  {
   "cell_type": "code",
   "execution_count": 6,
   "id": "4a32667d",
   "metadata": {},
   "outputs": [
    {
     "name": "stdout",
     "output_type": "stream",
     "text": [
      "16/16 [==============================] - 0s 8ms/step - loss: 0.3513 - accuracy: 0.8760 - precision: 0.8423 - recall: 0.9289\n",
      "Test Loss: 0.3512992262840271\n",
      "Test Accuracy: 0.8759999871253967\n",
      "Test Precision: 0.842293918132782\n",
      "Test Recall: 0.9288537502288818\n"
     ]
    }
   ],
   "source": [
    "score = model.evaluate(X_test, y_test, verbose=1)\n",
    "print(\"Test Loss:\", score[0])\n",
    "print(\"Test Accuracy:\", score[1])\n",
    "print(\"Test Precision:\", score[2])\n",
    "print(\"Test Recall:\", score[3])"
   ]
  },
  {
   "cell_type": "code",
   "execution_count": 7,
   "id": "8ccecfbd",
   "metadata": {},
   "outputs": [
    {
     "data": {
      "image/png": "[encoded data removed]",
      "text/plain": [
       "<Figure size 432x288 with 1 Axes>"
      ]
     },
     "metadata": {
      "needs_background": "light"
     },
     "output_type": "display_data"
    },
    {
     "data": {
      "image/png": "[encoded data removed]",
      "text/plain": [
       "<Figure size 432x288 with 1 Axes>"
      ]
     },
     "metadata": {
      "needs_background": "light"
     },
     "output_type": "display_data"
    }
   ],
   "source": [
    "import matplotlib.pyplot as plt\n",
    "\n",
    "plt.plot(history.history['accuracy'])\n",
    "plt.plot(history.history['val_accuracy'])\n",
    "\n",
    "plt.title('model accuracy')\n",
    "plt.ylabel('accuracy')\n",
    "plt.xlabel('epoch')\n",
    "plt.legend(['train','test'], loc='upper left')\n",
    "plt.show()\n",
    "\n",
    "plt.plot(history.history['loss'])\n",
    "plt.plot(history.history['val_loss'])\n",
    "\n",
    "plt.title('model loss')\n",
    "plt.ylabel('loss')\n",
    "plt.xlabel('epoch')\n",
    "plt.legend(['train','test'], loc='upper left')\n",
    "plt.show()"
   ]
  },
  {
   "cell_type": "code",
   "execution_count": null,
   "id": "e445cbd1",
   "metadata": {},
   "outputs": [],
   "source": []
  },
  {
   "cell_type": "code",
   "execution_count": 175,
   "id": "840f9836",
   "metadata": {},
   "outputs": [
    {
     "name": "stdout",
     "output_type": "stream",
     "text": [
      "ምርጥ ሰዉ\n"
     ]
    }
   ],
   "source": [
    "instance = X[190]\n",
    "print(instance)"
   ]
  },
  {
   "cell_type": "code",
   "execution_count": 176,
   "id": "c3af92a7",
   "metadata": {},
   "outputs": [
    {
     "data": {
      "text/plain": [
       "array([[0.77815294]], dtype=float32)"
      ]
     },
     "execution_count": 176,
     "metadata": {},
     "output_type": "execute_result"
    }
   ],
   "source": [
    "instance = tokenizer.texts_to_sequences(instance)\n",
    "\n",
    "flat_list = []\n",
    "for sublist in instance:\n",
    "    for item in sublist:\n",
    "        flat_list.append(item)\n",
    "\n",
    "flat_list = [flat_list]\n",
    "\n",
    "instance = pad_sequences(flat_list, padding='post', maxlen=maxlen)\n",
    "\n",
    "model.predict(instance)"
   ]
  },
  {
   "cell_type": "code",
   "execution_count": null,
   "id": "ebd17a66",
   "metadata": {},
   "outputs": [],
   "source": []
  }
 ],
 "metadata": {
  "kernelspec": {
   "display_name": "Python 3",
   "language": "python",
   "name": "python3"
  },
  "language_info": {
   "codemirror_mode": {
    "name": "ipython",
    "version": 3
   },
   "file_extension": ".py",
   "mimetype": "text/x-python",
   "name": "python",
   "nbconvert_exporter": "python",
   "pygments_lexer": "ipython3",
   "version": "3.8.8"
  }
 },
 "nbformat": 4,
 "nbformat_minor": 5
}
