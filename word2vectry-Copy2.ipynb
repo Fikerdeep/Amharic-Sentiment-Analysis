{
 "cells": [
  {
   "cell_type": "code",
   "execution_count": 2,
   "id": "78758c51",
   "metadata": {},
   "outputs": [
    {
     "name": "stdout",
     "output_type": "stream",
     "text": [
      "[('ይስጥልን', 0.9973933100700378), ('ይመስገን', 0.996848464012146), ('አብያችን', 0.9965269565582275), ('እድሜና', 0.9960516691207886), ('ነብሳቸውን', 0.9959315657615662), ('አላህ', 0.9956247210502625), ('ይስጥህ', 0.9956077933311462), ('ይስጣችሁ', 0.9955750107765198), ('ክብርት', 0.9954379796981812), ('በደስታ', 0.9954245686531067)]\n"
     ]
    }
   ],
   "source": [
    "from gensim.models import Word2Vec\n",
    "with open(r'C:\\Users\\Fiker\\anaconda3\\envs\\LSTM\\amhd.txt', encoding=\"utf8\") as f:\n",
    "    matrix=[line.split() for line in f]\n",
    "    #print(matrix)\n",
    "# train model\n",
    "model = Word2Vec(sentences=matrix, vector_size=100, window=5, min_count=2, workers=4, sg = 1)\n",
    "\n",
    "# model.save(\"word2vec.model\")\n",
    "# model.save(\"word2vec.txt\")\n",
    "model = Word2Vec.load(\"word2vec.model\")\n",
    "vector= model.train(matrix, total_examples=model.corpus_count, epochs=5)\n",
    "vec = model.wv.most_similar(\"ፈጣሬ\")\n",
    "model.wv.save_word2vec_format('f.txt', binary=False)\n",
    "\n",
    "print(vec)"
   ]
  },
  {
   "cell_type": "code",
   "execution_count": 12,
   "id": "8d642280",
   "metadata": {},
   "outputs": [
    {
     "data": {
      "text/plain": [
       "100"
      ]
     },
     "execution_count": 12,
     "metadata": {},
     "output_type": "execute_result"
    }
   ],
   "source": [
    "model.vector_size"
   ]
  },
  {
   "cell_type": "code",
   "execution_count": 23,
   "id": "8e707868",
   "metadata": {},
   "outputs": [
    {
     "data": {
      "text/plain": [
       "2074"
      ]
     },
     "execution_count": 23,
     "metadata": {},
     "output_type": "execute_result"
    }
   ],
   "source": []
  },
  {
   "cell_type": "code",
   "execution_count": null,
   "id": "caf48a96",
   "metadata": {},
   "outputs": [],
   "source": []
  }
 ],
 "metadata": {
  "kernelspec": {
   "display_name": "Python 3",
   "language": "python",
   "name": "python3"
  },
  "language_info": {
   "codemirror_mode": {
    "name": "ipython",
    "version": 3
   },
   "file_extension": ".py",
   "mimetype": "text/x-python",
   "name": "python",
   "nbconvert_exporter": "python",
   "pygments_lexer": "ipython3",
   "version": "3.8.8"
  }
 },
 "nbformat": 4,
 "nbformat_minor": 5
}
