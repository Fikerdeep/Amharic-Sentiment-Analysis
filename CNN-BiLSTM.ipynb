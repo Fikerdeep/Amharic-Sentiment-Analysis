{
 "cells": [
  {
   "cell_type": "code",
   "execution_count": 6,
   "id": "e3b47939",
   "metadata": {},
   "outputs": [
    {
     "data": {
      "text/plain": [
       "0    ታዛዥ ነን !!የምንችለውን ሁሉ ለማደረግ። እግዚአብሔር ብቻ ከናንተ ጋር ይሁን\n",
       "1    ያልከው ሁሉ ያልከው ልክ ነይ በአላህ እገዛ ሁሉም ለሀገራችን ጥሩን እመኛለሁ።\n",
       "2        የዘመኑ ጀግና እና ማዕበሉን የምታሻግር የድርሻውን የሚወጣ አንበሳ ነህ።\n",
       "3                  ድል ከእውነተኛው ተባዳዮች ጋር ናት ጀግናዬ ነህ ዐቢቹ።\n",
       "4          ፈጣሪ ይርዳን በተለይ እንደ አማራ ህዝብ በጣም አሳሳቢ እየሆነ ነው \n",
       "Name: review, dtype: object"
      ]
     },
     "execution_count": 6,
     "metadata": {},
     "output_type": "execute_result"
    }
   ],
   "source": [
    "import pandas as pd\n",
    "import numpy as np\n",
    "import re\n",
    "import nltk\n",
    "from nltk.corpus import stopwords\n",
    "from nltk import sent_tokenize, word_tokenize\n",
    "from pandas import DataFrame\n",
    "from numpy import array\n",
    "from keras.preprocessing.text import one_hot\n",
    "from keras.preprocessing.sequence import pad_sequences\n",
    "from keras.models import Sequential\n",
    "from keras.layers.core import Activation, Dropout, Dense\n",
    "from keras.layers import Flatten\n",
    "#from keras.layers import GlobalMaxPooling1D\n",
    "from keras.layers.embeddings import Embedding\n",
    "from sklearn.model_selection import train_test_split\n",
    "from keras.preprocessing.text import Tokenizer\n",
    "from keras.layers import LSTM, Conv1D, Dense, Flatten, MaxPooling1D, Dropout\n",
    "df = pd.read_csv('D:\\post.csv', encoding = 'utf16')\n",
    "d=df['review']\n",
    "d.head()"
   ]
  },
  {
   "cell_type": "code",
   "execution_count": 7,
   "id": "2c37a3b8",
   "metadata": {},
   "outputs": [],
   "source": [
    "class normalize(object):\n",
    "    expansion_file_dir='' # assume you have file with list of short forms with their expansion as gazeter\n",
    "    short_form_dict={}\n",
    "    # Constructor\n",
    "    def __init__(self):\n",
    "       self.short_form_dict=self.get_short_forms()\n",
    "        \n",
    "\n",
    "    def get_short_forms(self):\n",
    "         text=open(self.expansion_file_dir,encoding='utf8')\n",
    "         exp={}\n",
    "         for line in iter(text):\n",
    "            line=line.strip()\n",
    "            if not line:  # line is blank\n",
    "                continue\n",
    "            else:\n",
    "                expanded=line.split(\"-\")\n",
    "                exp[expanded[0].strip()]=expanded[1].replace(\" \",'_').strip()\n",
    "         return exp\n",
    "                     \n",
    "\n",
    "    # method that expand short form file\n",
    "    def expand_short_form(input_short_word):\n",
    "        if input_short_word in self.short_form_dict:              \n",
    "            return self.short_form_dict[input_short_word]\n",
    "        else:\n",
    "            return input_short_word\n",
    "\n",
    "def preprocess(input_token):\n",
    " space_pattern = '\\s+'\n",
    " url_regex = ('http[s]?://(?:[a-zA-Z]|[0-9]|[$-_@.&+]|'\n",
    " '[!*\\(\\),]|(?:%[0-9a-fA-F][0-9a-fA-F]))+')\n",
    " englishword_num ='[a-zA-Z]|[0-9]+'\n",
    " AmhPunc='[፤።፡፣:,.?/()•“”*፨]+'\n",
    " special_char = \"[@#$%^&=?×!,;:_.(){}`'/+*<>\\\"¤— „\\ ®¯™¡¡\\x10»€«·‘0e1b§”¬¦…\"\"f÷\\~¨©±¥£¶–°•˜’“|]\"\n",
    " geez_number=' [፩ ፪ ፫ ፬ ፭ ፮ ፯ ፰ ፱ ፲ ፳ ፴ ፵ ፶ ፷ ፸ ፹ ፺ ፻] ' # for removing geez number\n",
    " RE_EMOJI = re.compile('[\\U00010000-\\U0010ffff]', flags=re.UNICODE)\n",
    " Clean_text = re.sub(url_regex,'', input_token)\n",
    " Clean_text = re.sub(AmhPunc,' ',Clean_text)\n",
    " Clean_text=re.sub(special_char,' ',Clean_text)\n",
    " Clean_text= re.sub(englishword_num,'',Clean_text)\n",
    " Clean_text= re.sub(r'(.)\\1+', r'\\1\\1',Clean_text) #removing elongation in text\n",
    " Clean_text = RE_EMOJI.sub(r'', Clean_text)\n",
    " Clean_text =re.sub(geez_number,'',Clean_text)\n",
    " Clean_text=re.sub('-','',Clean_text)\n",
    " Clean_text=re.sub(r'<[^>]*>','', Clean_text)\n",
    " Clean_text=re.sub('-',' ',Clean_text)\n",
    " Clean_text = Clean_text.replace(\"\\\\\", \"\");\n",
    " Clean_text = Clean_text.replace(\"[\", \"\");\n",
    " Clean_text = Clean_text.replace(\"]\", \"\");\n",
    " Clean_text = re.sub(space_pattern,' ',Clean_text)\n",
    " return Clean_text\n",
    "def normalize_char_level_missmatch(input_token):\n",
    "        rep1=re.sub('[ሃኅኃሐሓኻ]','ሀ',input_token)\n",
    "        rep2=re.sub('[ሑኁዅ]','ሁ',rep1)\n",
    "        rep3=re.sub('[ኂሒኺ]','ሂ',rep2)\n",
    "        rep4=re.sub('[ኌሔዄ]','ሄ',rep3)\n",
    "        rep5=re.sub('[ሕኅ]','ህ',rep4)\n",
    "        rep6=re.sub('[ኆሖኾ]','ሆ',rep5)\n",
    "        rep7=re.sub('[ሠ]','ሰ',rep6)\n",
    "        rep8=re.sub('[ሡ]','ሱ',rep7)\n",
    "        rep9=re.sub('[ሢ]','ሲ',rep8)\n",
    "        rep10=re.sub('[ሣ]','ሳ',rep9)\n",
    "        rep11=re.sub('[ሤ]','ሴ',rep10)\n",
    "        rep12=re.sub('[ሥ]','ስ',rep11)\n",
    "        rep13=re.sub('[ሦ]','ሶ',rep12)\n",
    "        rep14=re.sub('[ዓኣዐ]','አ',rep13)\n",
    "        rep15=re.sub('[ዑ]','ኡ',rep14)\n",
    "        rep16=re.sub('[ዒ]','ኢ',rep15)\n",
    "        rep17=re.sub('[ዔ]','ኤ',rep16)\n",
    "        rep18=re.sub('[ዕ]','እ',rep17)\n",
    "        rep19=re.sub('[ዖ]','ኦ',rep18)\n",
    "        rep20=re.sub('[ጸ]','ፀ',rep19)\n",
    "        rep21=re.sub('[ጹ]','ፁ',rep20)\n",
    "        rep22=re.sub('[ጺ]','ፂ',rep21)\n",
    "        rep23=re.sub('[ጻ]','ፃ',rep22)\n",
    "        rep24=re.sub('[ጼ]','ፄ',rep23)\n",
    "        rep25=re.sub('[ጽ]','ፅ',rep24)\n",
    "        rep26=re.sub('[ጾ]','ፆ',rep25)\n",
    "        #Normalizing words with Labialized Amharic characters such as በልቱዋል or  በልቱአል to  በልቷል  \n",
    "        rep27=re.sub('(ሉ[ዋአ])','ሏ',rep26)\n",
    "        rep28=re.sub('(ሙ[ዋአ])','ሟ',rep27)\n",
    "        rep29=re.sub('(ቱ[ዋአ])','ቷ',rep28)\n",
    "        rep30=re.sub('(ሩ[ዋአ])','ሯ',rep29)\n",
    "        rep31=re.sub('(ሱ[ዋአ])','ሷ',rep30)\n",
    "        rep32=re.sub('(ሹ[ዋአ])','ሿ',rep31)\n",
    "        rep33=re.sub('(ቁ[ዋአ])','ቋ',rep32)\n",
    "        rep34=re.sub('(ቡ[ዋአ])','ቧ',rep33)\n",
    "        rep35=re.sub('(ቹ[ዋአ])','ቿ',rep34)\n",
    "        rep36=re.sub('(ሁ[ዋአ])','ኋ',rep35)\n",
    "        rep37=re.sub('(ኑ[ዋአ])','ኗ',rep36)\n",
    "        rep38=re.sub('(ኙ[ዋአ])','ኟ',rep37)\n",
    "        rep39=re.sub('(ኩ[ዋአ])','ኳ',rep38)\n",
    "        rep40=re.sub('(ዙ[ዋአ])','ዟ',rep39)\n",
    "        rep41=re.sub('(ጉ[ዋአ])','ጓ',rep40)\n",
    "        rep42=re.sub('(ደ[ዋአ])','ዷ',rep41)\n",
    "        rep43=re.sub('(ጡ[ዋአ])','ጧ',rep42)\n",
    "        rep44=re.sub('(ጩ[ዋአ])','ጯ',rep43)\n",
    "        rep45=re.sub('(ጹ[ዋአ])','ጿ',rep44)\n",
    "        rep46=re.sub('(ፉ[ዋአ])','ፏ',rep45)\n",
    "        rep47=re.sub('[ቊ]','ቁ',rep46) #ቁ can be written as ቊ\n",
    "        rep48=re.sub('[ኵ]','ኩ',rep47) #ኩ can be also written as ኵ  \n",
    "        return rep48\n",
    "\n",
    "df['nreview'] = d.apply(preprocess)\n",
    "#df['nreview'] =df['nreview'].apply(normalize_char_level_missmatch)\n",
    "X = []\n",
    "sentences = list(df['nreview'] )\n",
    "for sen in sentences:\n",
    "    #print(sen)\n",
    "    X.append(normalize_char_level_missmatch(sen))\n",
    "y = df['sentiment']\n",
    "\n",
    "y = np.array(list(map(lambda x: 1 if x==\"positive\" else 0, y)))"
   ]
  },
  {
   "cell_type": "code",
   "execution_count": 11,
   "id": "e002afc3",
   "metadata": {},
   "outputs": [],
   "source": [
    "X_train, X_test, y_train, y_test = train_test_split(X, y, test_size=0.10, random_state=0)\n",
    "\n",
    "tokenizer = Tokenizer(num_words=15000)\n",
    "\n",
    "tokenizer.fit_on_texts(X_train)\n",
    "X_train = tokenizer.texts_to_sequences(X_train)\n",
    "\n",
    "X_test = tokenizer.texts_to_sequences(X_test)\n",
    "\n",
    "# Adding 1 because of reserved 0 index\n",
    "vocab_size = len(tokenizer.word_index) + 1\n",
    "\n",
    "maxlen = 20\n",
    "#print('Train Set ->', X_train.shape, y_train.shape)\n"
   ]
  },
  {
   "cell_type": "code",
   "execution_count": 12,
   "id": "c4116a74",
   "metadata": {},
   "outputs": [],
   "source": [
    "X_train = pad_sequences(X_train, padding='post', maxlen=maxlen)\n",
    "X_test = pad_sequences(X_test, padding='post', maxlen=maxlen)\n",
    "from numpy import array\n",
    "from numpy import asarray\n",
    "from numpy import zeros\n",
    "\n",
    "\n",
    "embeddings_dictionary = dict()\n",
    "glove_file = open('f.txt', encoding=\"utf8\")\n",
    "\n",
    "for line in glove_file:\n",
    "    records = line.split()\n",
    "    word = records[0]\n",
    "    vector_dimensions = asarray(records[1:], dtype='float32')\n",
    "    embeddings_dictionary [word] = vector_dimensions\n",
    "glove_file.close()\n",
    "# print(embeddings_dictionary)\n",
    "embedding_matrix = zeros((vocab_size, 100))\n",
    "for word, index in tokenizer.word_index.items():\n",
    "#     print(word, index)\n",
    "    embedding_vector = embeddings_dictionary.get(word)\n",
    "#     print(embedding_vector)\n",
    "    if embedding_vector is not None:\n",
    "        embedding_matrix[index] = embedding_vector\n",
    "#print(embedding_matrix)  \n"
   ]
  },
  {
   "cell_type": "code",
   "execution_count": 19,
   "id": "5cd17e91",
   "metadata": {},
   "outputs": [
    {
     "name": "stderr",
     "output_type": "stream",
     "text": [
      "C:\\Users\\Fiker\\anaconda3\\lib\\site-packages\\tensorflow\\python\\keras\\optimizer_v2\\optimizer_v2.py:374: UserWarning: The `lr` argument is deprecated, use `learning_rate` instead.\n",
      "  warnings.warn(\n"
     ]
    },
    {
     "name": "stdout",
     "output_type": "stream",
     "text": [
      "Model: \"sequential_4\"\n",
      "_________________________________________________________________\n",
      "Layer (type)                 Output Shape              Param #   \n",
      "=================================================================\n",
      "embedding_4 (Embedding)      (None, 20, 32)            454944    \n",
      "_________________________________________________________________\n",
      "conv1d_4 (Conv1D)            (None, 20, 64)            6208      \n",
      "_________________________________________________________________\n",
      "dropout_8 (Dropout)          (None, 20, 64)            0         \n",
      "_________________________________________________________________\n",
      "max_pooling1d_4 (MaxPooling1 (None, 5, 64)             0         \n",
      "_________________________________________________________________\n",
      "bidirectional_4 (Bidirection (None, 128)               66048     \n",
      "_________________________________________________________________\n",
      "dropout_9 (Dropout)          (None, 128)               0         \n",
      "_________________________________________________________________\n",
      "dense_4 (Dense)              (None, 1)                 129       \n",
      "=================================================================\n",
      "Total params: 527,329\n",
      "Trainable params: 527,329\n",
      "Non-trainable params: 0\n",
      "_________________________________________________________________\n",
      "None\n",
      "Epoch 1/5\n",
      "32/32 [==============================] - 12s 97ms/step - loss: 0.6923 - accuracy: 0.5005 - precision_4: 0.5063 - recall_4: 0.8137 - val_loss: 0.6801 - val_accuracy: 0.5222 - val_precision_4: 1.0000 - val_recall_4: 0.0611\n",
      "Epoch 2/5\n",
      "32/32 [==============================] - 1s 33ms/step - loss: 0.5871 - accuracy: 0.7549 - precision_4: 0.9561 - recall_4: 0.5373 - val_loss: 0.2894 - val_accuracy: 0.8911 - val_precision_4: 0.8913 - val_recall_4: 0.8952\n",
      "Epoch 3/5\n",
      "32/32 [==============================] - 1s 41ms/step - loss: 0.1029 - accuracy: 0.9663 - precision_4: 0.9649 - recall_4: 0.9669 - val_loss: 0.2358 - val_accuracy: 0.9200 - val_precision_4: 0.9142 - val_recall_4: 0.9301\n",
      "Epoch 4/5\n",
      "32/32 [==============================] - 1s 34ms/step - loss: 0.0286 - accuracy: 0.9941 - precision_4: 0.9927 - recall_4: 0.9956 - val_loss: 0.2505 - val_accuracy: 0.9244 - val_precision_4: 0.9412 - val_recall_4: 0.9083\n",
      "Epoch 5/5\n",
      "32/32 [==============================] - 1s 34ms/step - loss: 0.0134 - accuracy: 0.9973 - precision_4: 0.9956 - recall_4: 0.9989 - val_loss: 0.2838 - val_accuracy: 0.9111 - val_precision_4: 0.9437 - val_recall_4: 0.8777\n",
      "16/16 [==============================] - 0s 3ms/step - loss: 0.2714 - accuracy: 0.9160 - precision_4: 0.9048 - recall_4: 0.9392\n",
      "Test Score: 0.27142366766929626\n",
      "Test Accuracy: 0.9160000085830688\n"
     ]
    }
   ],
   "source": [
    "from keras.layers.recurrent import LSTM\n",
    "from keras.layers import Input\n",
    "from keras.layers.merge import Concatenate\n",
    "from keras.layers.embeddings import Embedding\n",
    "from keras.models import Model\n",
    "from keras.layers import Embedding, Conv1D, MaxPooling1D, Bidirectional, LSTM, Dense, Dropout\n",
    "from keras.metrics import Precision, Recall\n",
    "from tensorflow.keras.optimizers import SGD\n",
    "from tensorflow.keras.optimizers import RMSprop\n",
    "#from keras.optimizers import RMSprop\n",
    "#from keras import datasets\n",
    "from keras.metrics import Precision, Recall\n",
    "from keras.callbacks import LearningRateScheduler\n",
    "from keras.callbacks import History\n",
    "\n",
    "from keras import losses\n",
    "\n",
    "vocab_size = vocab_size\n",
    "embedding_size = 32\n",
    "learning_rate = 0.0001\n",
    "epochs=7\n",
    "decay_rate = learning_rate / epochs\n",
    "momentum = 0.7\n",
    "\n",
    "sgd = SGD(lr=learning_rate, momentum=momentum, decay=decay_rate, nesterov=False)\n",
    "# Build model\n",
    "model= Sequential()\n",
    "model.add(Embedding(vocab_size, embedding_size, input_length=maxlen))\n",
    "model.add(Conv1D(filters=64, kernel_size=3, padding='same', activation='relu'))\n",
    "#model.add(Dense(2))\n",
    "model.add(Dropout(0.2))\n",
    "model.add(MaxPooling1D(pool_size=4))\n",
    "#model.add(Dense(32))\n",
    "model.add(Bidirectional(LSTM(64)))\n",
    "#model.add(Dense())\n",
    "model.add(Dropout(0.3))\n",
    "model.add(Dense(1, activation='sigmoid'))\n",
    "\n",
    "model.compile(loss = 'binary_crossentropy', optimizer='adam',metrics = ['accuracy', Precision(), Recall()])\n",
    "print(model.summary())\n",
    "history = model.fit(X_train, y_train, batch_size=128, epochs=5, verbose=1, validation_split=0.1)\n",
    "score = model.evaluate(X_test, y_test, verbose=1)\n",
    "\n",
    "print(\"Test Score:\", score[0])\n",
    "print(\"Test Accuracy:\", score[1])"
   ]
  },
  {
   "cell_type": "code",
   "execution_count": 20,
   "id": "190c1ba1",
   "metadata": {},
   "outputs": [
    {
     "name": "stdout",
     "output_type": "stream",
     "text": [
      "Test Score: 0.27142366766929626\n",
      "Test Accuracy: 0.9160000085830688\n",
      "Test precision: 0.9047619104385376\n",
      "Test Recall: 0.9391635060310364\n"
     ]
    }
   ],
   "source": [
    "print(\"Test Score:\", score[0])\n",
    "print(\"Test Accuracy:\", score[1])\n",
    "print(\"Test precision:\", score[2])\n",
    "print(\"Test Recall:\", score[3])"
   ]
  },
  {
   "cell_type": "code",
   "execution_count": 37,
   "id": "50bbd6ba",
   "metadata": {},
   "outputs": [
    {
     "name": "stdout",
     "output_type": "stream",
     "text": [
      "Best model saved\n"
     ]
    }
   ],
   "source": [
    "model.save('best_models2721.h5')\n",
    "print('Best model saved')"
   ]
  },
  {
   "cell_type": "code",
   "execution_count": 21,
   "id": "5dde8891",
   "metadata": {
    "scrolled": true
   },
   "outputs": [
    {
     "data": {
      "text/plain": [
       "Text(91.68, 0.5, 'Actual label')"
      ]
     },
     "execution_count": 21,
     "metadata": {},
     "output_type": "execute_result"
    },
    {
     "data": {
      "image/png": "[encoded data removed]",
      "text/plain": [
       "<Figure size 432x288 with 1 Axes>"
      ]
     },
     "metadata": {
      "needs_background": "light"
     },
     "output_type": "display_data"
    }
   ],
   "source": [
    "from sklearn.metrics import confusion_matrix\n",
    "import matplotlib.pyplot as plt\n",
    "%matplotlib inline\n",
    "import seaborn as sns \n",
    "y_predicted = model.predict(X_test) > 0.5\n",
    "mat = confusion_matrix(y_test, y_predicted)\n",
    "labels = ['postive', 'negative']\n",
    " \n",
    "sns.heatmap(mat, square=True, annot=True, fmt='d', cbar=False, cmap='Blues',\n",
    "            xticklabels=labels, yticklabels=labels)\n",
    " \n",
    "plt.xlabel('Predicted label')\n",
    "plt.ylabel('Actual label')"
   ]
  },
  {
   "cell_type": "code",
   "execution_count": 22,
   "id": "8ccecfbd",
   "metadata": {},
   "outputs": [
    {
     "data": {
      "image/png": "[encoded data removed]",
      "text/plain": [
       "<Figure size 432x288 with 1 Axes>"
      ]
     },
     "metadata": {
      "needs_background": "light"
     },
     "output_type": "display_data"
    },
    {
     "data": {
      "image/png": "[encoded data removed]",
      "text/plain": [
       "<Figure size 432x288 with 1 Axes>"
      ]
     },
     "metadata": {
      "needs_background": "light"
     },
     "output_type": "display_data"
    }
   ],
   "source": [
    "import matplotlib.pyplot as plt\n",
    "\n",
    "plt.plot(history.history['accuracy'])\n",
    "plt.plot(history.history['val_accuracy'])\n",
    "\n",
    "plt.title('model accuracy')\n",
    "plt.ylabel('accuracy')\n",
    "plt.xlabel('epoch')\n",
    "plt.legend(['train','test'], loc='upper left')\n",
    "plt.show()\n",
    "\n",
    "plt.plot(history.history['loss'])\n",
    "plt.plot(history.history['val_loss'])\n",
    "\n",
    "plt.title('model loss')\n",
    "plt.ylabel('loss')\n",
    "plt.xlabel('epoch')\n",
    "plt.legend(['train','test'], loc='upper left')\n",
    "plt.show()"
   ]
  },
  {
   "cell_type": "code",
   "execution_count": null,
   "id": "e445cbd1",
   "metadata": {},
   "outputs": [],
   "source": []
  },
  {
   "cell_type": "code",
   "execution_count": 19,
   "id": "840f9836",
   "metadata": {},
   "outputs": [
    {
     "name": "stdout",
     "output_type": "stream",
     "text": [
      "ክንዴ በርታና አበርታን በርታ ከጎን ነን ሁሌም\n"
     ]
    }
   ],
   "source": [
    "instance = X[45]\n",
    "print(instance)"
   ]
  },
  {
   "cell_type": "code",
   "execution_count": 20,
   "id": "c3af92a7",
   "metadata": {},
   "outputs": [
    {
     "name": "stdout",
     "output_type": "stream",
     "text": [
      "WARNING:tensorflow:5 out of the last 5 calls to <function Model.make_predict_function.<locals>.predict_function at 0x000001E6ACC3F0D0> triggered tf.function retracing. Tracing is expensive and the excessive number of tracings could be due to (1) creating @tf.function repeatedly in a loop, (2) passing tensors with different shapes, (3) passing Python objects instead of tensors. For (1), please define your @tf.function outside of the loop. For (2), @tf.function has experimental_relax_shapes=True option that relaxes argument shapes that can avoid unnecessary retracing. For (3), please refer to https://www.tensorflow.org/guide/function#controlling_retracing and https://www.tensorflow.org/api_docs/python/tf/function for  more details.\n",
      "negative sentiment\n"
     ]
    }
   ],
   "source": [
    "from tensorflow.keras.models import load_model\n",
    "model = load_model(\"best_models2719.h5\")\n",
    "instance = tokenizer.texts_to_sequences(instance)\n",
    "\n",
    "flat_list = []\n",
    "for sublist in instance:\n",
    "    for item in sublist:\n",
    "        flat_list.append(item)\n",
    "\n",
    "flat_list = [flat_list]\n",
    "\n",
    "instance = pad_sequences(flat_list, padding='post', maxlen=maxlen)\n",
    "\n",
    "if (model.predict(instance)> 0.5).astype(\"float32\"):\n",
    "    print(\"postive sentiment\")\n",
    "else:\n",
    "    print(\"negative sentiment\")\n"
   ]
  },
  {
   "cell_type": "code",
   "execution_count": 9,
   "id": "ebd17a66",
   "metadata": {},
   "outputs": [],
   "source": [
    "from tensorflow.keras.models import load_model\n",
    "model = load_model('best_models2719.h5')\n",
    "\n",
    "def predict_class(text):\n",
    "    '''Function to predict sentiment class of the passed text'''\n",
    "    \n",
    "    sentiment_classes = ['Negative', 'Positive']\n",
    "    max_len=20\n",
    "    \n",
    "    # Transforms text to a sequence of integers using a tokenizer object\n",
    "    xt = tokenizer.texts_to_sequences(text)\n",
    "    # Pad sequences to the same length\n",
    "    xt = pad_sequences(xt, padding='post', maxlen=max_len)\n",
    "    # Do the prediction using the loaded model\n",
    "    yt = model.predict(xt).argmax(axis=0)\n",
    "    # Print the predicted sentiment\n",
    "    print('The predicted sentiment is', sentiment_classes[yt[0]])"
   ]
  },
  {
   "cell_type": "code",
   "execution_count": 10,
   "id": "9b342063",
   "metadata": {},
   "outputs": [
    {
     "name": "stdout",
     "output_type": "stream",
     "text": [
      "The predicted sentiment is Negative\n"
     ]
    }
   ],
   "source": []
  },
  {
   "cell_type": "code",
   "execution_count": null,
   "id": "f4e7588c",
   "metadata": {},
   "outputs": [],
   "source": []
  }
 ],
 "metadata": {
  "kernelspec": {
   "display_name": "Python 3",
   "language": "python",
   "name": "python3"
  },
  "language_info": {
   "codemirror_mode": {
    "name": "ipython",
    "version": 3
   },
   "file_extension": ".py",
   "mimetype": "text/x-python",
   "name": "python",
   "nbconvert_exporter": "python",
   "pygments_lexer": "ipython3",
   "version": "3.8.8"
  }
 },
 "nbformat": 4,
 "nbformat_minor": 5
}
